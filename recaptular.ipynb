{
 "cells": [
  {
   "cell_type": "code",
   "execution_count": 3,
   "metadata": {},
   "outputs": [
    {
     "name": "stdout",
     "output_type": "stream",
     "text": [
      "True\n"
     ]
    }
   ],
   "source": [
    "variavel = \"valor\"\n",
    "print(variavel == \"valor\")"
   ]
  },
  {
   "cell_type": "code",
   "execution_count": 16,
   "metadata": {},
   "outputs": [
    {
     "name": "stdout",
     "output_type": "stream",
     "text": [
      "Posição do primeiro 52 é 4\n"
     ]
    }
   ],
   "source": [
    "\n",
    "\n",
    "def encontra_posicao_primeiro(valor, array):\n",
    "    contador = 1\n",
    "    for i in array:\n",
    "        if(i == valor):\n",
    "            print(\"Posição do primeiro \" + str(valor) + \" é \" + str(contador))\n",
    "        contador += 1\n",
    "\n",
    "array1 = [27, 38, 40, 52, 11, 13]\n",
    "\n",
    "\n",
    "encontra_posicao_primeiro(52, array1)\n",
    "encontra_posicao_primeiro(20, array1)\n",
    "encontra_posicao_primeiro(30, array1)"
   ]
  }
 ],
 "metadata": {
  "interpreter": {
   "hash": "4d581fef53bcc7b9121b723ffffee9bb3151d28f1d879cf512cef40db48bd410"
  },
  "kernelspec": {
   "display_name": "Python 3.10.2 64-bit",
   "language": "python",
   "name": "python3"
  },
  "language_info": {
   "codemirror_mode": {
    "name": "ipython",
    "version": 3
   },
   "file_extension": ".py",
   "mimetype": "text/x-python",
   "name": "python",
   "nbconvert_exporter": "python",
   "pygments_lexer": "ipython3",
   "version": "3.10.2"
  },
  "orig_nbformat": 4
 },
 "nbformat": 4,
 "nbformat_minor": 2
}
