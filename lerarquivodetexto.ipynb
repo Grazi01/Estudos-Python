{
 "cells": [
  {
   "cell_type": "code",
   "execution_count": 3,
   "metadata": {},
   "outputs": [
    {
     "name": "stdout",
     "output_type": "stream",
     "text": [
      "Grazilele\n",
      "Thiago\n",
      "Glayber\n"
     ]
    }
   ],
   "source": [
    "def ler(caminho):\n",
    "    with open(caminho, 'r') as arquivo:\n",
    "        return arquivo.read()\n",
    "\n",
    "arquivo = ler(\"zi.txt\")\n",
    "\n",
    "nomes = [arquivo.strip() for arquivo in arquivo.split(\",\")]\n",
    "\n",
    "for nome in nomes:\n",
    "    print(nome)\n"
   ]
  },
  {
   "cell_type": "code",
   "execution_count": null,
   "metadata": {},
   "outputs": [],
   "source": []
  }
 ],
 "metadata": {
  "interpreter": {
   "hash": "4d581fef53bcc7b9121b723ffffee9bb3151d28f1d879cf512cef40db48bd410"
  },
  "kernelspec": {
   "display_name": "Python 3.10.2 64-bit",
   "language": "python",
   "name": "python3"
  },
  "language_info": {
   "codemirror_mode": {
    "name": "ipython",
    "version": 3
   },
   "file_extension": ".py",
   "mimetype": "text/x-python",
   "name": "python",
   "nbconvert_exporter": "python",
   "pygments_lexer": "ipython3",
   "version": "3.10.2"
  },
  "orig_nbformat": 4
 },
 "nbformat": 4,
 "nbformat_minor": 2
}
